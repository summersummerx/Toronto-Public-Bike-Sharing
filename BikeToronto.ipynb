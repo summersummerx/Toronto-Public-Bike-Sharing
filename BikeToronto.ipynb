{
 "cells": [
  {
   "cell_type": "markdown",
   "id": "af153a11",
   "metadata": {},
   "source": [
    "# Part 1 Business Understanding "
   ]
  },
  {
   "cell_type": "markdown",
   "id": "e8274f3d",
   "metadata": {},
   "source": [
    "A closer look at the Toronto public bike sharing data downloaded from Kaggle, and learnings for potencial bike users or public officials"
   ]
  },
  {
   "cell_type": "markdown",
   "id": "15790b28",
   "metadata": {},
   "source": [
    "### Q1 What's the trending like year by year? Is bike riding getting more popular?"
   ]
  },
  {
   "cell_type": "markdown",
   "id": "c96719f0",
   "metadata": {},
   "source": [
    "### Q2 At which station did bike rides usually start?"
   ]
  },
  {
   "cell_type": "markdown",
   "id": "39fd3acd",
   "metadata": {},
   "source": [
    "### Q3 How long does a trip usually take? Does it fluctuate by year?"
   ]
  },
  {
   "cell_type": "markdown",
   "id": "c60be590",
   "metadata": {},
   "source": [
    "### Q4 Is there any correlation between quarter of the year and trip length?"
   ]
  },
  {
   "cell_type": "code",
   "execution_count": 2,
   "id": "49fceebf",
   "metadata": {},
   "outputs": [],
   "source": [
    "import pandas as pd"
   ]
  },
  {
   "cell_type": "code",
   "execution_count": 74,
   "id": "1b63d443",
   "metadata": {},
   "outputs": [],
   "source": [
    "import numpy as np"
   ]
  },
  {
   "cell_type": "code",
   "execution_count": 15,
   "id": "80302172",
   "metadata": {},
   "outputs": [],
   "source": [
    "import datetime"
   ]
  },
  {
   "cell_type": "code",
   "execution_count": 29,
   "id": "25cc9d2f",
   "metadata": {},
   "outputs": [
    {
     "name": "stdout",
     "output_type": "stream",
     "text": [
      "Collecting dython\n",
      "  Downloading dython-0.6.7-py3-none-any.whl (19 kB)\n",
      "Requirement already satisfied: numpy in c:\\programdata\\anaconda3\\lib\\site-packages (from dython) (1.20.3)\n",
      "Collecting scikit-plot>=0.3.7\n",
      "  Downloading scikit_plot-0.3.7-py3-none-any.whl (33 kB)\n",
      "Requirement already satisfied: seaborn in c:\\programdata\\anaconda3\\lib\\site-packages (from dython) (0.11.2)\n",
      "Requirement already satisfied: scikit-learn in c:\\programdata\\anaconda3\\lib\\site-packages (from dython) (0.24.2)\n",
      "Requirement already satisfied: matplotlib in c:\\programdata\\anaconda3\\lib\\site-packages (from dython) (3.4.2)\n",
      "Requirement already satisfied: scipy in c:\\programdata\\anaconda3\\lib\\site-packages (from dython) (1.6.2)\n",
      "Requirement already satisfied: pandas>=0.23.4 in c:\\programdata\\anaconda3\\lib\\site-packages (from dython) (1.3.1)\n",
      "Requirement already satisfied: python-dateutil>=2.7.3 in c:\\programdata\\anaconda3\\lib\\site-packages (from pandas>=0.23.4->dython) (2.8.2)\n",
      "Requirement already satisfied: pytz>=2017.3 in c:\\programdata\\anaconda3\\lib\\site-packages (from pandas>=0.23.4->dython) (2021.1)\n",
      "Requirement already satisfied: six>=1.5 in c:\\programdata\\anaconda3\\lib\\site-packages (from python-dateutil>=2.7.3->pandas>=0.23.4->dython) (1.15.0)\n",
      "Requirement already satisfied: joblib>=0.10 in c:\\programdata\\anaconda3\\lib\\site-packages (from scikit-plot>=0.3.7->dython) (1.0.1)\n",
      "Requirement already satisfied: pyparsing>=2.2.1 in c:\\programdata\\anaconda3\\lib\\site-packages (from matplotlib->dython) (2.4.7)\n",
      "Requirement already satisfied: pillow>=6.2.0 in c:\\programdata\\anaconda3\\lib\\site-packages (from matplotlib->dython) (8.3.1)\n",
      "Requirement already satisfied: kiwisolver>=1.0.1 in c:\\programdata\\anaconda3\\lib\\site-packages (from matplotlib->dython) (1.3.1)\n",
      "Requirement already satisfied: cycler>=0.10 in c:\\programdata\\anaconda3\\lib\\site-packages (from matplotlib->dython) (0.10.0)\n",
      "Requirement already satisfied: threadpoolctl>=2.0.0 in c:\\programdata\\anaconda3\\lib\\site-packages (from scikit-learn->dython) (2.2.0)\n",
      "Installing collected packages: scikit-plot, dython\n",
      "Successfully installed dython-0.6.7 scikit-plot-0.3.7\n"
     ]
    }
   ],
   "source": [
    "!pip install dython"
   ]
  },
  {
   "cell_type": "code",
   "execution_count": 30,
   "id": "40794ef2",
   "metadata": {},
   "outputs": [],
   "source": [
    "from dython.nominal import associations"
   ]
  },
  {
   "cell_type": "code",
   "execution_count": 2,
   "id": "ca85ea87",
   "metadata": {},
   "outputs": [],
   "source": [
    "%matplotlib inline"
   ]
  },
  {
   "cell_type": "markdown",
   "id": "b5586dd5",
   "metadata": {},
   "source": [
    "# Part 2-3 Data Understanding and Preparation"
   ]
  },
  {
   "cell_type": "markdown",
   "id": "75e58a7e",
   "metadata": {},
   "source": [
    "- Collect initial data"
   ]
  },
  {
   "cell_type": "code",
   "execution_count": 3,
   "id": "f42b4760",
   "metadata": {},
   "outputs": [],
   "source": [
    "stations = pd.read_csv('./OneDrive/Documents/pj/Udacity nd/lesson1/archive/toronto/stations.csv')"
   ]
  },
  {
   "cell_type": "code",
   "execution_count": 8,
   "id": "c22e97f6",
   "metadata": {},
   "outputs": [],
   "source": [
    "trips = pd.read_csv('./OneDrive/Documents/pj/Udacity nd/lesson1/archive/toronto/trips.csv')"
   ]
  },
  {
   "cell_type": "markdown",
   "id": "84d4780f",
   "metadata": {},
   "source": [
    "- Data description and inspection"
   ]
  },
  {
   "cell_type": "code",
   "execution_count": 4,
   "id": "5fdcdc60",
   "metadata": {},
   "outputs": [
    {
     "data": {
      "text/html": [
       "<div>\n",
       "<style scoped>\n",
       "    .dataframe tbody tr th:only-of-type {\n",
       "        vertical-align: middle;\n",
       "    }\n",
       "\n",
       "    .dataframe tbody tr th {\n",
       "        vertical-align: top;\n",
       "    }\n",
       "\n",
       "    .dataframe thead th {\n",
       "        text-align: right;\n",
       "    }\n",
       "</style>\n",
       "<table border=\"1\" class=\"dataframe\">\n",
       "  <thead>\n",
       "    <tr style=\"text-align: right;\">\n",
       "      <th></th>\n",
       "      <th>start_date</th>\n",
       "      <th>start_station_code</th>\n",
       "      <th>end_date</th>\n",
       "      <th>end_station_code</th>\n",
       "      <th>duration_sec</th>\n",
       "      <th>is_member</th>\n",
       "      <th>yearid</th>\n",
       "    </tr>\n",
       "  </thead>\n",
       "  <tbody>\n",
       "    <tr>\n",
       "      <th>0</th>\n",
       "      <td>2016-07-09 01:03:00</td>\n",
       "      <td>0</td>\n",
       "      <td>2016-07-09 01:15:00</td>\n",
       "      <td>160</td>\n",
       "      <td>720.0</td>\n",
       "      <td>0</td>\n",
       "      <td>2016</td>\n",
       "    </tr>\n",
       "    <tr>\n",
       "      <th>1</th>\n",
       "      <td>2016-09-03 22:37:00</td>\n",
       "      <td>0</td>\n",
       "      <td>2016-09-03 22:48:00</td>\n",
       "      <td>160</td>\n",
       "      <td>660.0</td>\n",
       "      <td>0</td>\n",
       "      <td>2016</td>\n",
       "    </tr>\n",
       "    <tr>\n",
       "      <th>2</th>\n",
       "      <td>2016-08-05 16:21:00</td>\n",
       "      <td>0</td>\n",
       "      <td>2016-08-05 16:33:00</td>\n",
       "      <td>160</td>\n",
       "      <td>720.0</td>\n",
       "      <td>0</td>\n",
       "      <td>2016</td>\n",
       "    </tr>\n",
       "    <tr>\n",
       "      <th>3</th>\n",
       "      <td>2016-09-23 10:15:00</td>\n",
       "      <td>0</td>\n",
       "      <td>2016-09-23 10:28:00</td>\n",
       "      <td>160</td>\n",
       "      <td>780.0</td>\n",
       "      <td>0</td>\n",
       "      <td>2016</td>\n",
       "    </tr>\n",
       "    <tr>\n",
       "      <th>4</th>\n",
       "      <td>2016-10-15 13:40:00</td>\n",
       "      <td>0</td>\n",
       "      <td>2016-10-15 13:51:00</td>\n",
       "      <td>160</td>\n",
       "      <td>660.0</td>\n",
       "      <td>0</td>\n",
       "      <td>2016</td>\n",
       "    </tr>\n",
       "  </tbody>\n",
       "</table>\n",
       "</div>"
      ],
      "text/plain": [
       "            start_date  start_station_code             end_date  \\\n",
       "0  2016-07-09 01:03:00                   0  2016-07-09 01:15:00   \n",
       "1  2016-09-03 22:37:00                   0  2016-09-03 22:48:00   \n",
       "2  2016-08-05 16:21:00                   0  2016-08-05 16:33:00   \n",
       "3  2016-09-23 10:15:00                   0  2016-09-23 10:28:00   \n",
       "4  2016-10-15 13:40:00                   0  2016-10-15 13:51:00   \n",
       "\n",
       "   end_station_code  duration_sec  is_member  yearid  \n",
       "0               160         720.0          0    2016  \n",
       "1               160         660.0          0    2016  \n",
       "2               160         720.0          0    2016  \n",
       "3               160         780.0          0    2016  \n",
       "4               160         660.0          0    2016  "
      ]
     },
     "execution_count": 4,
     "metadata": {},
     "output_type": "execute_result"
    }
   ],
   "source": [
    "trips.head(5)"
   ]
  },
  {
   "cell_type": "code",
   "execution_count": 7,
   "id": "59009bda",
   "metadata": {},
   "outputs": [
    {
     "data": {
      "text/plain": [
       "(9348395, 7)"
      ]
     },
     "execution_count": 7,
     "metadata": {},
     "output_type": "execute_result"
    }
   ],
   "source": [
    "trips.shape"
   ]
  },
  {
   "cell_type": "code",
   "execution_count": 8,
   "id": "1929273d",
   "metadata": {},
   "outputs": [
    {
     "data": {
      "text/plain": [
       "(1927, 5)"
      ]
     },
     "execution_count": 8,
     "metadata": {},
     "output_type": "execute_result"
    }
   ],
   "source": [
    "stations.shape"
   ]
  },
  {
   "cell_type": "code",
   "execution_count": 5,
   "id": "d5d4d40a",
   "metadata": {},
   "outputs": [
    {
     "data": {
      "text/plain": [
       "start_date            0\n",
       "start_station_code    0\n",
       "end_date              0\n",
       "end_station_code      0\n",
       "duration_sec          0\n",
       "is_member             0\n",
       "yearid                0\n",
       "dtype: int64"
      ]
     },
     "execution_count": 5,
     "metadata": {},
     "output_type": "execute_result"
    }
   ],
   "source": [
    "trips.isnull().sum()"
   ]
  },
  {
   "cell_type": "markdown",
   "id": "93b3b3bd",
   "metadata": {},
   "source": [
    "From above, no missing values in trips dataframe"
   ]
  },
  {
   "cell_type": "code",
   "execution_count": 6,
   "id": "95d91207",
   "metadata": {},
   "outputs": [
    {
     "data": {
      "text/plain": [
       "code            0\n",
       "name            0\n",
       "latitude     1927\n",
       "longitude    1927\n",
       "yearid          0\n",
       "dtype: int64"
      ]
     },
     "execution_count": 6,
     "metadata": {},
     "output_type": "execute_result"
    }
   ],
   "source": [
    "stations.isnull().sum()"
   ]
  },
  {
   "cell_type": "markdown",
   "id": "8e0e700e",
   "metadata": {},
   "source": [
    "From above, column latitude and longitude do not contain any value except null.\n",
    "Thus we'll drop column latitude and longitude below."
   ]
  },
  {
   "cell_type": "code",
   "execution_count": 5,
   "id": "a8240e50",
   "metadata": {},
   "outputs": [],
   "source": [
    "stations.drop(columns=['latitude', 'longitude'],inplace=True)"
   ]
  },
  {
   "cell_type": "markdown",
   "id": "3f3a7ff3",
   "metadata": {},
   "source": [
    "Inspect if station code varies in different years"
   ]
  },
  {
   "cell_type": "markdown",
   "id": "8ffa0f59",
   "metadata": {},
   "source": [
    "first use groupby to see the station counts by year."
   ]
  },
  {
   "cell_type": "code",
   "execution_count": 66,
   "id": "09a36223",
   "metadata": {},
   "outputs": [
    {
     "data": {
      "text/html": [
       "<div>\n",
       "<style scoped>\n",
       "    .dataframe tbody tr th:only-of-type {\n",
       "        vertical-align: middle;\n",
       "    }\n",
       "\n",
       "    .dataframe tbody tr th {\n",
       "        vertical-align: top;\n",
       "    }\n",
       "\n",
       "    .dataframe thead th {\n",
       "        text-align: right;\n",
       "    }\n",
       "</style>\n",
       "<table border=\"1\" class=\"dataframe\">\n",
       "  <thead>\n",
       "    <tr style=\"text-align: right;\">\n",
       "      <th></th>\n",
       "      <th>yearid</th>\n",
       "      <th>total_stations</th>\n",
       "    </tr>\n",
       "  </thead>\n",
       "  <tbody>\n",
       "    <tr>\n",
       "      <th>0</th>\n",
       "      <td>2016</td>\n",
       "      <td>201</td>\n",
       "    </tr>\n",
       "    <tr>\n",
       "      <th>1</th>\n",
       "      <td>2017</td>\n",
       "      <td>293</td>\n",
       "    </tr>\n",
       "    <tr>\n",
       "      <th>2</th>\n",
       "      <td>2018</td>\n",
       "      <td>359</td>\n",
       "    </tr>\n",
       "    <tr>\n",
       "      <th>3</th>\n",
       "      <td>2019</td>\n",
       "      <td>469</td>\n",
       "    </tr>\n",
       "    <tr>\n",
       "      <th>4</th>\n",
       "      <td>2020</td>\n",
       "      <td>605</td>\n",
       "    </tr>\n",
       "  </tbody>\n",
       "</table>\n",
       "</div>"
      ],
      "text/plain": [
       "   yearid  total_stations\n",
       "0    2016             201\n",
       "1    2017             293\n",
       "2    2018             359\n",
       "3    2019             469\n",
       "4    2020             605"
      ]
     },
     "execution_count": 66,
     "metadata": {},
     "output_type": "execute_result"
    }
   ],
   "source": [
    "stations.groupby('yearid')['name'].count().reset_index().rename(columns={'name':'total_stations'})"
   ]
  },
  {
   "cell_type": "markdown",
   "id": "7ae4478c",
   "metadata": {},
   "source": [
    "From above, it seems there are more stations available across the years."
   ]
  },
  {
   "cell_type": "markdown",
   "id": "3e5136b7",
   "metadata": {},
   "source": [
    "But is it possible that there are duplicated stations per year? We'll use unique count by year to confirm."
   ]
  },
  {
   "cell_type": "code",
   "execution_count": 4,
   "id": "04c5e830",
   "metadata": {},
   "outputs": [
    {
     "data": {
      "text/html": [
       "<div>\n",
       "<style scoped>\n",
       "    .dataframe tbody tr th:only-of-type {\n",
       "        vertical-align: middle;\n",
       "    }\n",
       "\n",
       "    .dataframe tbody tr th {\n",
       "        vertical-align: top;\n",
       "    }\n",
       "\n",
       "    .dataframe thead th {\n",
       "        text-align: right;\n",
       "    }\n",
       "</style>\n",
       "<table border=\"1\" class=\"dataframe\">\n",
       "  <thead>\n",
       "    <tr style=\"text-align: right;\">\n",
       "      <th></th>\n",
       "      <th>yearid</th>\n",
       "      <th>total_stations</th>\n",
       "    </tr>\n",
       "  </thead>\n",
       "  <tbody>\n",
       "    <tr>\n",
       "      <th>0</th>\n",
       "      <td>2016</td>\n",
       "      <td>201</td>\n",
       "    </tr>\n",
       "    <tr>\n",
       "      <th>1</th>\n",
       "      <td>2017</td>\n",
       "      <td>293</td>\n",
       "    </tr>\n",
       "    <tr>\n",
       "      <th>2</th>\n",
       "      <td>2018</td>\n",
       "      <td>359</td>\n",
       "    </tr>\n",
       "    <tr>\n",
       "      <th>3</th>\n",
       "      <td>2019</td>\n",
       "      <td>469</td>\n",
       "    </tr>\n",
       "    <tr>\n",
       "      <th>4</th>\n",
       "      <td>2020</td>\n",
       "      <td>605</td>\n",
       "    </tr>\n",
       "  </tbody>\n",
       "</table>\n",
       "</div>"
      ],
      "text/plain": [
       "   yearid  total_stations\n",
       "0    2016             201\n",
       "1    2017             293\n",
       "2    2018             359\n",
       "3    2019             469\n",
       "4    2020             605"
      ]
     },
     "execution_count": 4,
     "metadata": {},
     "output_type": "execute_result"
    }
   ],
   "source": [
    "stations.groupby('yearid')['name'].nunique().reset_index().rename(columns={'name':'total_stations'})"
   ]
  },
  {
   "cell_type": "markdown",
   "id": "3e72c037",
   "metadata": {},
   "source": [
    "We see there are no duplicates per year for station names. The station count did increase every year."
   ]
  },
  {
   "cell_type": "markdown",
   "id": "e92b8686",
   "metadata": {},
   "source": [
    "Move on to further inspect the trips dataframe"
   ]
  },
  {
   "cell_type": "code",
   "execution_count": 42,
   "id": "50c99b6b",
   "metadata": {},
   "outputs": [
    {
     "data": {
      "text/html": [
       "<div>\n",
       "<style scoped>\n",
       "    .dataframe tbody tr th:only-of-type {\n",
       "        vertical-align: middle;\n",
       "    }\n",
       "\n",
       "    .dataframe tbody tr th {\n",
       "        vertical-align: top;\n",
       "    }\n",
       "\n",
       "    .dataframe thead th {\n",
       "        text-align: right;\n",
       "    }\n",
       "</style>\n",
       "<table border=\"1\" class=\"dataframe\">\n",
       "  <thead>\n",
       "    <tr style=\"text-align: right;\">\n",
       "      <th></th>\n",
       "      <th>start_station_code</th>\n",
       "      <th>end_station_code</th>\n",
       "      <th>duration_sec</th>\n",
       "      <th>is_member</th>\n",
       "      <th>yearid</th>\n",
       "    </tr>\n",
       "  </thead>\n",
       "  <tbody>\n",
       "    <tr>\n",
       "      <th>count</th>\n",
       "      <td>9.348395e+06</td>\n",
       "      <td>9.348395e+06</td>\n",
       "      <td>9.348395e+06</td>\n",
       "      <td>9.348395e+06</td>\n",
       "      <td>9.348395e+06</td>\n",
       "    </tr>\n",
       "    <tr>\n",
       "      <th>mean</th>\n",
       "      <td>1.592977e+02</td>\n",
       "      <td>1.598529e+02</td>\n",
       "      <td>1.004293e+03</td>\n",
       "      <td>5.671952e-01</td>\n",
       "      <td>2.018598e+03</td>\n",
       "    </tr>\n",
       "    <tr>\n",
       "      <th>std</th>\n",
       "      <td>1.216603e+02</td>\n",
       "      <td>1.213733e+02</td>\n",
       "      <td>1.352750e+05</td>\n",
       "      <td>4.954643e-01</td>\n",
       "      <td>1.248066e+00</td>\n",
       "    </tr>\n",
       "    <tr>\n",
       "      <th>min</th>\n",
       "      <td>0.000000e+00</td>\n",
       "      <td>0.000000e+00</td>\n",
       "      <td>-2.799342e+07</td>\n",
       "      <td>0.000000e+00</td>\n",
       "      <td>2.016000e+03</td>\n",
       "    </tr>\n",
       "    <tr>\n",
       "      <th>25%</th>\n",
       "      <td>6.300000e+01</td>\n",
       "      <td>6.300000e+01</td>\n",
       "      <td>4.200000e+02</td>\n",
       "      <td>0.000000e+00</td>\n",
       "      <td>2.018000e+03</td>\n",
       "    </tr>\n",
       "    <tr>\n",
       "      <th>50%</th>\n",
       "      <td>1.300000e+02</td>\n",
       "      <td>1.320000e+02</td>\n",
       "      <td>7.200000e+02</td>\n",
       "      <td>1.000000e+00</td>\n",
       "      <td>2.019000e+03</td>\n",
       "    </tr>\n",
       "    <tr>\n",
       "      <th>75%</th>\n",
       "      <td>2.290000e+02</td>\n",
       "      <td>2.290000e+02</td>\n",
       "      <td>1.140000e+03</td>\n",
       "      <td>1.000000e+00</td>\n",
       "      <td>2.020000e+03</td>\n",
       "    </tr>\n",
       "    <tr>\n",
       "      <th>max</th>\n",
       "      <td>6.030000e+02</td>\n",
       "      <td>6.040000e+02</td>\n",
       "      <td>1.240020e+07</td>\n",
       "      <td>1.000000e+00</td>\n",
       "      <td>2.020000e+03</td>\n",
       "    </tr>\n",
       "  </tbody>\n",
       "</table>\n",
       "</div>"
      ],
      "text/plain": [
       "       start_station_code  end_station_code  duration_sec     is_member  \\\n",
       "count        9.348395e+06      9.348395e+06  9.348395e+06  9.348395e+06   \n",
       "mean         1.592977e+02      1.598529e+02  1.004293e+03  5.671952e-01   \n",
       "std          1.216603e+02      1.213733e+02  1.352750e+05  4.954643e-01   \n",
       "min          0.000000e+00      0.000000e+00 -2.799342e+07  0.000000e+00   \n",
       "25%          6.300000e+01      6.300000e+01  4.200000e+02  0.000000e+00   \n",
       "50%          1.300000e+02      1.320000e+02  7.200000e+02  1.000000e+00   \n",
       "75%          2.290000e+02      2.290000e+02  1.140000e+03  1.000000e+00   \n",
       "max          6.030000e+02      6.040000e+02  1.240020e+07  1.000000e+00   \n",
       "\n",
       "             yearid  \n",
       "count  9.348395e+06  \n",
       "mean   2.018598e+03  \n",
       "std    1.248066e+00  \n",
       "min    2.016000e+03  \n",
       "25%    2.018000e+03  \n",
       "50%    2.019000e+03  \n",
       "75%    2.020000e+03  \n",
       "max    2.020000e+03  "
      ]
     },
     "execution_count": 42,
     "metadata": {},
     "output_type": "execute_result"
    }
   ],
   "source": [
    "trips.describe()"
   ]
  },
  {
   "cell_type": "markdown",
   "id": "2f26f655",
   "metadata": {},
   "source": [
    "From above duration_sec has negative values, which doesn't make sense. Trip duration can't be negative."
   ]
  },
  {
   "cell_type": "markdown",
   "id": "8a946e3c",
   "metadata": {},
   "source": [
    "Below, we see 594 records with negative trip duration. "
   ]
  },
  {
   "cell_type": "markdown",
   "id": "0fdf914a",
   "metadata": {},
   "source": [
    "We are not sure if they are due to data collection error or a simple misplaced -/+. Thus these records will be dropped."
   ]
  },
  {
   "cell_type": "code",
   "execution_count": 44,
   "id": "a9a0ca64",
   "metadata": {},
   "outputs": [
    {
     "data": {
      "text/plain": [
       "594"
      ]
     },
     "execution_count": 44,
     "metadata": {},
     "output_type": "execute_result"
    }
   ],
   "source": [
    "sum(trips.duration_sec<0)"
   ]
  },
  {
   "cell_type": "code",
   "execution_count": 9,
   "id": "18d8056b",
   "metadata": {},
   "outputs": [],
   "source": [
    "trips = trips[trips.duration_sec>=0]"
   ]
  },
  {
   "cell_type": "code",
   "execution_count": 46,
   "id": "9d01ae2b",
   "metadata": {},
   "outputs": [
    {
     "data": {
      "text/plain": [
       "0"
      ]
     },
     "execution_count": 46,
     "metadata": {},
     "output_type": "execute_result"
    }
   ],
   "source": [
    "sum(trips.duration_sec<0)"
   ]
  },
  {
   "cell_type": "markdown",
   "id": "6e6f5221",
   "metadata": {},
   "source": [
    "Check the data types"
   ]
  },
  {
   "cell_type": "code",
   "execution_count": 44,
   "id": "97142aa4",
   "metadata": {},
   "outputs": [
    {
     "data": {
      "text/plain": [
       "start_date             object\n",
       "start_station_code      int64\n",
       "end_date               object\n",
       "end_station_code        int64\n",
       "duration_sec          float64\n",
       "is_member               int64\n",
       "yearid                  int64\n",
       "dtype: object"
      ]
     },
     "execution_count": 44,
     "metadata": {},
     "output_type": "execute_result"
    }
   ],
   "source": [
    "trips.dtypes"
   ]
  },
  {
   "cell_type": "markdown",
   "id": "c43a6050",
   "metadata": {},
   "source": [
    "Start_date is currently a string but we need to convert it to be datetime"
   ]
  },
  {
   "cell_type": "code",
   "execution_count": 49,
   "id": "8e0aa2ff",
   "metadata": {},
   "outputs": [],
   "source": [
    "trips['start_date'] = pd.to_datetime(trips.start_date)"
   ]
  },
  {
   "cell_type": "code",
   "execution_count": 51,
   "id": "3dfd21f6",
   "metadata": {},
   "outputs": [
    {
     "data": {
      "text/plain": [
       "start_date            datetime64[ns]\n",
       "start_station_code             int64\n",
       "end_date                      object\n",
       "end_station_code               int64\n",
       "duration_sec                 float64\n",
       "is_member                      int64\n",
       "yearid                         int64\n",
       "dtype: object"
      ]
     },
     "execution_count": 51,
     "metadata": {},
     "output_type": "execute_result"
    }
   ],
   "source": [
    "trips.dtypes"
   ]
  },
  {
   "cell_type": "code",
   "execution_count": 6,
   "id": "ca6cfc0e",
   "metadata": {},
   "outputs": [
    {
     "data": {
      "text/html": [
       "<div>\n",
       "<style scoped>\n",
       "    .dataframe tbody tr th:only-of-type {\n",
       "        vertical-align: middle;\n",
       "    }\n",
       "\n",
       "    .dataframe tbody tr th {\n",
       "        vertical-align: top;\n",
       "    }\n",
       "\n",
       "    .dataframe thead th {\n",
       "        text-align: right;\n",
       "    }\n",
       "</style>\n",
       "<table border=\"1\" class=\"dataframe\">\n",
       "  <thead>\n",
       "    <tr style=\"text-align: right;\">\n",
       "      <th></th>\n",
       "      <th>code</th>\n",
       "      <th>yearid</th>\n",
       "    </tr>\n",
       "  </thead>\n",
       "  <tbody>\n",
       "    <tr>\n",
       "      <th>count</th>\n",
       "      <td>1927.000000</td>\n",
       "      <td>1927.000000</td>\n",
       "    </tr>\n",
       "    <tr>\n",
       "      <th>mean</th>\n",
       "      <td>217.745200</td>\n",
       "      <td>2018.510638</td>\n",
       "    </tr>\n",
       "    <tr>\n",
       "      <th>std</th>\n",
       "      <td>149.299952</td>\n",
       "      <td>1.344874</td>\n",
       "    </tr>\n",
       "    <tr>\n",
       "      <th>min</th>\n",
       "      <td>0.000000</td>\n",
       "      <td>2016.000000</td>\n",
       "    </tr>\n",
       "    <tr>\n",
       "      <th>25%</th>\n",
       "      <td>96.000000</td>\n",
       "      <td>2017.000000</td>\n",
       "    </tr>\n",
       "    <tr>\n",
       "      <th>50%</th>\n",
       "      <td>192.000000</td>\n",
       "      <td>2019.000000</td>\n",
       "    </tr>\n",
       "    <tr>\n",
       "      <th>75%</th>\n",
       "      <td>316.500000</td>\n",
       "      <td>2020.000000</td>\n",
       "    </tr>\n",
       "    <tr>\n",
       "      <th>max</th>\n",
       "      <td>604.000000</td>\n",
       "      <td>2020.000000</td>\n",
       "    </tr>\n",
       "  </tbody>\n",
       "</table>\n",
       "</div>"
      ],
      "text/plain": [
       "              code       yearid\n",
       "count  1927.000000  1927.000000\n",
       "mean    217.745200  2018.510638\n",
       "std     149.299952     1.344874\n",
       "min       0.000000  2016.000000\n",
       "25%      96.000000  2017.000000\n",
       "50%     192.000000  2019.000000\n",
       "75%     316.500000  2020.000000\n",
       "max     604.000000  2020.000000"
      ]
     },
     "execution_count": 6,
     "metadata": {},
     "output_type": "execute_result"
    }
   ],
   "source": [
    "stations.describe()"
   ]
  },
  {
   "cell_type": "markdown",
   "id": "171bd355",
   "metadata": {},
   "source": [
    "# Part 4 Evaluation"
   ]
  },
  {
   "cell_type": "markdown",
   "id": "7a9a62ae",
   "metadata": {},
   "source": [
    "## Q1 What's the trending like year by year? Is bike riding getting more popular?"
   ]
  },
  {
   "cell_type": "markdown",
   "id": "6cd5b7e5",
   "metadata": {},
   "source": [
    "Use group by to see total counts of trips by year"
   ]
  },
  {
   "cell_type": "code",
   "execution_count": 68,
   "id": "f840d23d",
   "metadata": {},
   "outputs": [
    {
     "data": {
      "text/plain": [
       "yearid\n",
       "2016     585372\n",
       "2017    1491951\n",
       "2018    1922951\n",
       "2019    2439057\n",
       "2020    2908470\n",
       "Name: start_date, dtype: int64"
      ]
     },
     "execution_count": 68,
     "metadata": {},
     "output_type": "execute_result"
    }
   ],
   "source": [
    "trips.groupby('yearid')['start_date'].count()"
   ]
  },
  {
   "cell_type": "markdown",
   "id": "de7bcb22",
   "metadata": {},
   "source": [
    "what % more from 2016 to 2020?"
   ]
  },
  {
   "cell_type": "code",
   "execution_count": 69,
   "id": "4965e757",
   "metadata": {},
   "outputs": [
    {
     "data": {
      "text/plain": [
       "4.968584079867162"
      ]
     },
     "execution_count": 69,
     "metadata": {},
     "output_type": "execute_result"
    }
   ],
   "source": [
    "2908470/585372"
   ]
  },
  {
   "cell_type": "markdown",
   "id": "9461e18e",
   "metadata": {},
   "source": [
    "Visualize: Use bar chart to see the total trips trend across the years"
   ]
  },
  {
   "cell_type": "code",
   "execution_count": 67,
   "id": "ec801717",
   "metadata": {},
   "outputs": [
    {
     "data": {
      "text/plain": [
       "<AxesSubplot:xlabel='yearid', ylabel='total trips'>"
      ]
     },
     "execution_count": 67,
     "metadata": {},
     "output_type": "execute_result"
    },
    {
     "data": {
      "image/png": "[encoded data removed]",
      "text/plain": [
       "<Figure size 432x288 with 1 Axes>"
      ]
     },
     "metadata": {
      "needs_background": "light"
     },
     "output_type": "display_data"
    }
   ],
   "source": [
    "trips.groupby('yearid')['start_date'].count().plot(kind='bar',ylabel='total trips')"
   ]
  },
  {
   "cell_type": "markdown",
   "id": "498cca21",
   "metadata": {},
   "source": [
    "More bikes trips are made every year. We see a total of ~3 million bike trips in 2020, in contrast to only 0.5 million in 2016"
   ]
  },
  {
   "cell_type": "markdown",
   "id": "21cc8e18",
   "metadata": {},
   "source": [
    "## Q2 At which station did bike rides usually start?"
   ]
  },
  {
   "cell_type": "markdown",
   "id": "f9f0f0af",
   "metadata": {},
   "source": [
    "First use groupby to get the trip counts at each station from each year,saving it to a new dataframe"
   ]
  },
  {
   "cell_type": "code",
   "execution_count": 48,
   "id": "320865ea",
   "metadata": {},
   "outputs": [],
   "source": [
    "trip_start = trips.groupby(['yearid','start_station_code'])['start_date'].count().reset_index()"
   ]
  },
  {
   "cell_type": "markdown",
   "id": "95786eb0",
   "metadata": {},
   "source": [
    "Since the trips dataframe doesn't contain the actual station names, we'll merge with stations to get the station names"
   ]
  },
  {
   "cell_type": "code",
   "execution_count": 49,
   "id": "20dddb08",
   "metadata": {},
   "outputs": [],
   "source": [
    "trip_start = pd.merge(trip_start,stations,left_on=['yearid','start_station_code'],right_on=['yearid','code'],how='left')"
   ]
  },
  {
   "cell_type": "markdown",
   "id": "0dfe17d4",
   "metadata": {},
   "source": [
    "Use idxmax to return the records with the most trips from each year"
   ]
  },
  {
   "cell_type": "code",
   "execution_count": 50,
   "id": "287f1f80",
   "metadata": {},
   "outputs": [
    {
     "data": {
      "text/html": [
       "<div>\n",
       "<style scoped>\n",
       "    .dataframe tbody tr th:only-of-type {\n",
       "        vertical-align: middle;\n",
       "    }\n",
       "\n",
       "    .dataframe tbody tr th {\n",
       "        vertical-align: top;\n",
       "    }\n",
       "\n",
       "    .dataframe thead th {\n",
       "        text-align: right;\n",
       "    }\n",
       "</style>\n",
       "<table border=\"1\" class=\"dataframe\">\n",
       "  <thead>\n",
       "    <tr style=\"text-align: right;\">\n",
       "      <th></th>\n",
       "      <th>yearid</th>\n",
       "      <th>name</th>\n",
       "    </tr>\n",
       "  </thead>\n",
       "  <tbody>\n",
       "    <tr>\n",
       "      <th>2</th>\n",
       "      <td>2016</td>\n",
       "      <td>Union Station</td>\n",
       "    </tr>\n",
       "    <tr>\n",
       "      <th>361</th>\n",
       "      <td>2017</td>\n",
       "      <td>Union Station</td>\n",
       "    </tr>\n",
       "    <tr>\n",
       "      <th>666</th>\n",
       "      <td>2018</td>\n",
       "      <td>York St / Queens Quay W</td>\n",
       "    </tr>\n",
       "    <tr>\n",
       "      <th>1041</th>\n",
       "      <td>2019</td>\n",
       "      <td>York St / Queens Quay W</td>\n",
       "    </tr>\n",
       "    <tr>\n",
       "      <th>1549</th>\n",
       "      <td>2020</td>\n",
       "      <td>Queens Quay E / Lower Sherbourne St</td>\n",
       "    </tr>\n",
       "  </tbody>\n",
       "</table>\n",
       "</div>"
      ],
      "text/plain": [
       "      yearid                                 name\n",
       "2       2016                        Union Station\n",
       "361     2017                        Union Station\n",
       "666     2018              York St / Queens Quay W\n",
       "1041    2019              York St / Queens Quay W\n",
       "1549    2020  Queens Quay E / Lower Sherbourne St"
      ]
     },
     "execution_count": 50,
     "metadata": {},
     "output_type": "execute_result"
    }
   ],
   "source": [
    "trip_start.loc[trip_start.groupby(['yearid'])['start_date'].idxmax()][['yearid','name']]"
   ]
  },
  {
   "cell_type": "markdown",
   "id": "744331c0",
   "metadata": {},
   "source": [
    "Most bike trips originated from Union Station back in 2016 and 2017, but were taken over by York St/QueensQuay W and QueensQuay W/Lower Sherbourne St in more recent years. "
   ]
  },
  {
   "cell_type": "markdown",
   "id": "28289eaa",
   "metadata": {},
   "source": [
    "## Q3 How long does a trip usually take? Does it fluctuate by year?"
   ]
  },
  {
   "cell_type": "markdown",
   "id": "066869cf",
   "metadata": {},
   "source": [
    "Use groupby to calculate the average trip duration in minutes per year."
   ]
  },
  {
   "cell_type": "code",
   "execution_count": 70,
   "id": "8a8b464e",
   "metadata": {},
   "outputs": [
    {
     "data": {
      "text/plain": [
       "yearid\n",
       "2016    88.796697\n",
       "2017    74.589459\n",
       "2018    16.049509\n",
       "2019    17.400436\n",
       "2020    19.389257\n",
       "Name: duration_sec, dtype: float64"
      ]
     },
     "execution_count": 70,
     "metadata": {},
     "output_type": "execute_result"
    }
   ],
   "source": [
    "trips.groupby('yearid')['duration_sec'].mean()/60 #converted to minutes"
   ]
  },
  {
   "cell_type": "markdown",
   "id": "8aeda982",
   "metadata": {},
   "source": [
    "Visualize: Use bar chart to see the average trip length in minutes across the years"
   ]
  },
  {
   "cell_type": "code",
   "execution_count": 80,
   "id": "00967c77",
   "metadata": {},
   "outputs": [
    {
     "data": {
      "text/plain": [
       "<AxesSubplot:xlabel='yearid', ylabel='avg trip duration mins'>"
      ]
     },
     "execution_count": 80,
     "metadata": {},
     "output_type": "execute_result"
    },
    {
     "data": {
      "image/png": "[encoded data removed]",
      "text/plain": [
       "<Figure size 432x288 with 1 Axes>"
      ]
     },
     "metadata": {
      "needs_background": "light"
     },
     "output_type": "display_data"
    }
   ],
   "source": [
    "trips.groupby('yearid')['duration_sec'].agg(lambda x:x.mean()/60).plot(kind='bar',ylabel='avg trip duration mins')"
   ]
  },
  {
   "cell_type": "markdown",
   "id": "43d8f05b",
   "metadata": {},
   "source": [
    "There's a significant decrease in bike trip duration across the years. Back in 2016/2017, a bike trip takes more than an hour on average. In more recent years, people tend to rent a bike for much smaller trips, which are 20 minutes or so on average."
   ]
  },
  {
   "cell_type": "markdown",
   "id": "6e6e35a0",
   "metadata": {},
   "source": [
    "## Q4 Is there any correlation between quarter of the year and trip length?"
   ]
  },
  {
   "cell_type": "markdown",
   "id": "d5e696ce",
   "metadata": {},
   "source": [
    "We have the date/time of each trip. We'll need a new column quarter based on the date column."
   ]
  },
  {
   "cell_type": "markdown",
   "id": "754668db",
   "metadata": {},
   "source": [
    "Below toquarter function returns the quarter as a string based on the date"
   ]
  },
  {
   "cell_type": "code",
   "execution_count": 13,
   "id": "dacadbb8",
   "metadata": {},
   "outputs": [],
   "source": [
    "def toquarter(tripdate):\n",
    "    '''\n",
    "    input:\n",
    "    tripdate - column that gives the trip date\n",
    "    \n",
    "    output:\n",
    "    quarter - new colmn that shows the quarter of the year based on trip date\n",
    "    '''\n",
    "    quarter_num = tripdate.dt.quarter\n",
    "    quarter = '1st' if quarter_num==1 else '2nd' if quarter_num==2 else '3rd' if quarter_num==3 else \\\n",
    "              '4th' if quarter_num==4 else 'na'\n",
    "    return quarter"
   ]
  },
  {
   "cell_type": "code",
   "execution_count": 52,
   "id": "7df3f8ab",
   "metadata": {},
   "outputs": [],
   "source": [
    "trips['quarter'] = trips.start_date.map(toquarter)"
   ]
  },
  {
   "cell_type": "code",
   "execution_count": 56,
   "id": "43c79111",
   "metadata": {},
   "outputs": [
    {
     "data": {
      "text/plain": [
       "(9347801, 8)"
      ]
     },
     "execution_count": 56,
     "metadata": {},
     "output_type": "execute_result"
    }
   ],
   "source": [
    "trips.shape"
   ]
  },
  {
   "cell_type": "code",
   "execution_count": 53,
   "id": "5ecd4901",
   "metadata": {},
   "outputs": [
    {
     "data": {
      "text/html": [
       "<div>\n",
       "<style scoped>\n",
       "    .dataframe tbody tr th:only-of-type {\n",
       "        vertical-align: middle;\n",
       "    }\n",
       "\n",
       "    .dataframe tbody tr th {\n",
       "        vertical-align: top;\n",
       "    }\n",
       "\n",
       "    .dataframe thead th {\n",
       "        text-align: right;\n",
       "    }\n",
       "</style>\n",
       "<table border=\"1\" class=\"dataframe\">\n",
       "  <thead>\n",
       "    <tr style=\"text-align: right;\">\n",
       "      <th></th>\n",
       "      <th>start_date</th>\n",
       "      <th>start_station_code</th>\n",
       "      <th>end_date</th>\n",
       "      <th>end_station_code</th>\n",
       "      <th>duration_sec</th>\n",
       "      <th>is_member</th>\n",
       "      <th>yearid</th>\n",
       "      <th>quarter</th>\n",
       "    </tr>\n",
       "  </thead>\n",
       "  <tbody>\n",
       "    <tr>\n",
       "      <th>0</th>\n",
       "      <td>2016-07-09 01:03:00</td>\n",
       "      <td>0</td>\n",
       "      <td>2016-07-09 01:15:00</td>\n",
       "      <td>160</td>\n",
       "      <td>720.0</td>\n",
       "      <td>0</td>\n",
       "      <td>2016</td>\n",
       "      <td>3rd</td>\n",
       "    </tr>\n",
       "    <tr>\n",
       "      <th>1</th>\n",
       "      <td>2016-09-03 22:37:00</td>\n",
       "      <td>0</td>\n",
       "      <td>2016-09-03 22:48:00</td>\n",
       "      <td>160</td>\n",
       "      <td>660.0</td>\n",
       "      <td>0</td>\n",
       "      <td>2016</td>\n",
       "      <td>3rd</td>\n",
       "    </tr>\n",
       "    <tr>\n",
       "      <th>2</th>\n",
       "      <td>2016-08-05 16:21:00</td>\n",
       "      <td>0</td>\n",
       "      <td>2016-08-05 16:33:00</td>\n",
       "      <td>160</td>\n",
       "      <td>720.0</td>\n",
       "      <td>0</td>\n",
       "      <td>2016</td>\n",
       "      <td>3rd</td>\n",
       "    </tr>\n",
       "    <tr>\n",
       "      <th>3</th>\n",
       "      <td>2016-09-23 10:15:00</td>\n",
       "      <td>0</td>\n",
       "      <td>2016-09-23 10:28:00</td>\n",
       "      <td>160</td>\n",
       "      <td>780.0</td>\n",
       "      <td>0</td>\n",
       "      <td>2016</td>\n",
       "      <td>3rd</td>\n",
       "    </tr>\n",
       "    <tr>\n",
       "      <th>4</th>\n",
       "      <td>2016-10-15 13:40:00</td>\n",
       "      <td>0</td>\n",
       "      <td>2016-10-15 13:51:00</td>\n",
       "      <td>160</td>\n",
       "      <td>660.0</td>\n",
       "      <td>0</td>\n",
       "      <td>2016</td>\n",
       "      <td>4th</td>\n",
       "    </tr>\n",
       "  </tbody>\n",
       "</table>\n",
       "</div>"
      ],
      "text/plain": [
       "           start_date  start_station_code             end_date  \\\n",
       "0 2016-07-09 01:03:00                   0  2016-07-09 01:15:00   \n",
       "1 2016-09-03 22:37:00                   0  2016-09-03 22:48:00   \n",
       "2 2016-08-05 16:21:00                   0  2016-08-05 16:33:00   \n",
       "3 2016-09-23 10:15:00                   0  2016-09-23 10:28:00   \n",
       "4 2016-10-15 13:40:00                   0  2016-10-15 13:51:00   \n",
       "\n",
       "   end_station_code  duration_sec  is_member  yearid quarter  \n",
       "0               160         720.0          0    2016     3rd  \n",
       "1               160         660.0          0    2016     3rd  \n",
       "2               160         720.0          0    2016     3rd  \n",
       "3               160         780.0          0    2016     3rd  \n",
       "4               160         660.0          0    2016     4th  "
      ]
     },
     "execution_count": 53,
     "metadata": {},
     "output_type": "execute_result"
    }
   ],
   "source": [
    "trips.head(5)"
   ]
  },
  {
   "cell_type": "markdown",
   "id": "9af53409",
   "metadata": {},
   "source": [
    "Visualize: Use associations to check the correlation between quarter and trip duration"
   ]
  },
  {
   "cell_type": "code",
   "execution_count": 57,
   "id": "4d21d07d",
   "metadata": {},
   "outputs": [
    {
     "data": {
      "image/png": "[encoded data removed]",
      "text/plain": [
       "<Figure size 1440x720 with 2 Axes>"
      ]
     },
     "metadata": {
      "needs_background": "light"
     },
     "output_type": "display_data"
    }
   ],
   "source": [
    "associations(trips[['quarter','duration_sec']],figsize=(20,10),mark_columns=True);"
   ]
  },
  {
   "cell_type": "code",
   "execution_count": 58,
   "id": "ac5d6e60",
   "metadata": {},
   "outputs": [
    {
     "data": {
      "text/plain": [
       "quarter\n",
       "1st    3545.748065\n",
       "2nd    1965.634358\n",
       "3rd    1637.656570\n",
       "4th    1637.645521\n",
       "Name: duration_sec, dtype: float64"
      ]
     },
     "execution_count": 58,
     "metadata": {},
     "output_type": "execute_result"
    }
   ],
   "source": [
    "trips.groupby('quarter')['duration_sec'].mean()"
   ]
  },
  {
   "cell_type": "markdown",
   "id": "ed2695fd",
   "metadata": {},
   "source": [
    "Statistically we explored the correlation between bike trip duration and quarter of the year. There is no apparent association based on the correlation factor of 0.01. Although when looking at the average trip length by quarter, it seems trips are much longer during the 1st quarter. It's baffling to see trips are longer during the coldest months (usually Jan and Feb) in Toronto. Further research is needed as of why this is the case."
   ]
  }
 ],
 "metadata": {
  "kernelspec": {
   "display_name": "Python 3",
   "language": "python",
   "name": "python3"
  },
  "language_info": {
   "codemirror_mode": {
    "name": "ipython",
    "version": 3
   },
   "file_extension": ".py",
   "mimetype": "text/x-python",
   "name": "python",
   "nbconvert_exporter": "python",
   "pygments_lexer": "ipython3",
   "version": "3.8.8"
  }
 },
 "nbformat": 4,
 "nbformat_minor": 5
}
